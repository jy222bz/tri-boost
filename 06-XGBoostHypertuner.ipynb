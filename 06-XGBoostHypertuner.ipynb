{
 "cells": [
  {
   "cell_type": "markdown",
   "metadata": {
    "id": "8um2yEHWUf2x"
   },
   "source": [
    "# XGBoost: Hyperparameter Optimization\n",
    "\n",
    "*   Jacob Yousif"
   ]
  },
  {
   "cell_type": "markdown",
   "metadata": {
    "id": "MdnfmL1xWWjY"
   },
   "source": [
    "## Libraries"
   ]
  },
  {
   "cell_type": "code",
   "execution_count": 3,
   "metadata": {},
   "outputs": [],
   "source": [
    "import warnings\n",
    "warnings.filterwarnings('ignore')"
   ]
  },
  {
   "cell_type": "code",
   "execution_count": 4,
   "metadata": {
    "tags": []
   },
   "outputs": [],
   "source": [
    "%%capture\n",
    "!pip install optuna==3.6.1"
   ]
  },
  {
   "cell_type": "code",
   "execution_count": 5,
   "metadata": {},
   "outputs": [],
   "source": [
    "%%capture\n",
    "\n",
    "import pandas as pd\n",
    "import numpy as np\n",
    "import joblib\n",
    "from sklearn.metrics import accuracy_score\n",
    "from xgboost import XGBClassifier\n",
    "import optuna\n",
    "import time\n",
    "from sklearn.preprocessing import LabelEncoder, StandardScaler\n",
    "from sklearn.model_selection import train_test_split\n",
    "import matplotlib.pyplot as plt\n",
    "import seaborn as sns"
   ]
  },
  {
   "cell_type": "markdown",
   "metadata": {},
   "source": [
    "## Process"
   ]
  },
  {
   "cell_type": "code",
   "execution_count": 7,
   "metadata": {},
   "outputs": [],
   "source": [
    "npz_file_path = 'datasets/hypertuning_train_set/LearningSet.npz'\n",
    "data = np.load(npz_file_path, allow_pickle=True)"
   ]
  },
  {
   "cell_type": "code",
   "execution_count": 8,
   "metadata": {},
   "outputs": [],
   "source": [
    "X_train = data['X_train']\n",
    "y_train = data['y_train']\n",
    "X_val = data['X_val']\n",
    "y_val = data['y_val']\n",
    "features = data['feature_names']"
   ]
  },
  {
   "cell_type": "code",
   "execution_count": 9,
   "metadata": {},
   "outputs": [
    {
     "data": {
      "text/plain": [
       "array(['Duration', 'ProtocolCode', 'ServiceCode', 'StateCode',\n",
       "       'SourcePackets', 'DestinationPackets', 'SourceBytes',\n",
       "       'DestinationBytes', 'FlowRate', 'SourceTTL', 'DestinationTTL',\n",
       "       'SourceLoad', 'DestinationLoad', 'SourceLoss', 'DestinationLoss',\n",
       "       'SourceInterPacketTime', 'DestinationInterPacketTime',\n",
       "       'SourceJitter', 'DestinationJitter', 'SourceTCPWindow',\n",
       "       'SourceTCPBaseSequence', 'DestinationTCPBaseSequence',\n",
       "       'DestinationTCPWindow', 'TCPRTT', 'TCPSYNACK', 'TCPACKDelta',\n",
       "       'SourcePacketMeanSize', 'DestinationPacketMeanSize',\n",
       "       'TransactionDepth', 'ResponseBodyLength', 'RecordServiceSource',\n",
       "       'RecordStateTTL', 'RecordDestinationLTM', 'RecordSourceDPortLTM',\n",
       "       'RecordDestinationSPortLTM', 'RecordDestinationSourceLTM',\n",
       "       'IsFTPLogin', 'RecordFTPCommands', 'RecordFlowHTTPMethods',\n",
       "       'RecordSourceLTM', 'RecordServiceDestination', 'IsSmallIPSPorts'],\n",
       "      dtype='<U26')"
      ]
     },
     "execution_count": 9,
     "metadata": {},
     "output_type": "execute_result"
    }
   ],
   "source": [
    "features"
   ]
  },
  {
   "cell_type": "code",
   "execution_count": 10,
   "metadata": {},
   "outputs": [
    {
     "name": "stdout",
     "output_type": "stream",
     "text": [
      "X_train shape: (113921, 42)\n",
      "y_train shape: (113921,)\n",
      "X_val shape: (24412, 42)\n",
      "y_val shape: (24412,)\n"
     ]
    }
   ],
   "source": [
    "print(\"X_train shape:\", X_train.shape)\n",
    "print(\"y_train shape:\", y_train.shape)\n",
    "print(\"X_val shape:\", X_val.shape)\n",
    "print(\"y_val shape:\", y_val.shape)"
   ]
  },
  {
   "cell_type": "code",
   "execution_count": 11,
   "metadata": {},
   "outputs": [],
   "source": [
    "results = []\n",
    "total = 0\n",
    "best_accuracy = 0.0"
   ]
  },
  {
   "cell_type": "code",
   "execution_count": 12,
   "metadata": {},
   "outputs": [],
   "source": [
    "def objective(trial):\n",
    "    global total\n",
    "    global results\n",
    "    global best_accuracy\n",
    "\n",
    "    params = {\n",
    "        'n_estimators': trial.suggest_int('n_estimators', 100, 1000),\n",
    "        'eta': trial.suggest_float('eta', 0.0, 1),\n",
    "        'max_depth': trial.suggest_int('max_depth', 3, 15),\n",
    "        'subsample': trial.suggest_float('subsample', 0.0, 1.0),\n",
    "        'colsample_bytree': trial.suggest_float('colsample_bytree', 0.0, 1.0),\n",
    "        'gamma': trial.suggest_float('gamma', 0, 10.0),\n",
    "        'reg_lambda': trial.suggest_float('reg_lambda', 0.0, 10.0),\n",
    "        'reg_alpha': trial.suggest_float('reg_alpha', 0.0, 10.0),\n",
    "        'grow_policy': trial.suggest_categorical('grow_policy', ['depthwise', 'lossguide']),\n",
    "    }\n",
    "\n",
    "    \n",
    "    clf = XGBClassifier(**params, use_label_encoder=False, eval_metric='mlogloss', random_state=42)\n",
    "    start_time = time.time()\n",
    "    clf.fit(X_train, y_train, eval_set=[(X_val, y_val)], early_stopping_rounds=3, verbose=False)\n",
    "    duration = time.time() - start_time\n",
    "    y_pred = clf.predict(X_val)\n",
    "    accuracy = accuracy_score(y_val, y_pred)\n",
    "    \n",
    "\n",
    "    total += duration\n",
    "\n",
    "    if accuracy > best_accuracy:\n",
    "        best_accuracy = accuracy\n",
    "\n",
    "    results.append({\n",
    "        'Trial': trial.number,\n",
    "        'Accuracy': accuracy,\n",
    "        'Duration': duration,\n",
    "        'Params': params,\n",
    "        'BestAccuracy': best_accuracy\n",
    "    })\n",
    "\n",
    "    return accuracy"
   ]
  },
  {
   "cell_type": "code",
   "execution_count": 13,
   "metadata": {},
   "outputs": [],
   "source": [
    "study = optuna.create_study(direction='maximize')\n",
    "study.optimize(objective, n_trials=100)"
   ]
  },
  {
   "cell_type": "code",
   "execution_count": 14,
   "metadata": {},
   "outputs": [
    {
     "name": "stdout",
     "output_type": "stream",
     "text": [
      "Total duration of the hypertuning process in seconds: 7117 seconds.\n"
     ]
    }
   ],
   "source": [
    "seconds = int(total)\n",
    "print('Total duration of the hypertuning process in seconds:', seconds, 'seconds.')"
   ]
  },
  {
   "cell_type": "code",
   "execution_count": 15,
   "metadata": {},
   "outputs": [
    {
     "name": "stdout",
     "output_type": "stream",
     "text": [
      "Total duration in minutes: 118 minutes.\n"
     ]
    }
   ],
   "source": [
    "minutes = int(total / 60)\n",
    "print('Total duration in minutes:', minutes, 'minutes.')"
   ]
  },
  {
   "cell_type": "code",
   "execution_count": 16,
   "metadata": {},
   "outputs": [
    {
     "name": "stdout",
     "output_type": "stream",
     "text": [
      "Total duration in hours: 2.0 hours.\n"
     ]
    }
   ],
   "source": [
    "hours = round(total / 3600, 1)\n",
    "print('Total duration in hours:', hours, 'hours.')"
   ]
  },
  {
   "cell_type": "code",
   "execution_count": 17,
   "metadata": {},
   "outputs": [],
   "source": [
    "progress = pd.DataFrame(results)"
   ]
  },
  {
   "cell_type": "code",
   "execution_count": 18,
   "metadata": {},
   "outputs": [
    {
     "data": {
      "text/html": [
       "<div>\n",
       "<style scoped>\n",
       "    .dataframe tbody tr th:only-of-type {\n",
       "        vertical-align: middle;\n",
       "    }\n",
       "\n",
       "    .dataframe tbody tr th {\n",
       "        vertical-align: top;\n",
       "    }\n",
       "\n",
       "    .dataframe thead th {\n",
       "        text-align: right;\n",
       "    }\n",
       "</style>\n",
       "<table border=\"1\" class=\"dataframe\">\n",
       "  <thead>\n",
       "    <tr style=\"text-align: right;\">\n",
       "      <th></th>\n",
       "      <th>Trial</th>\n",
       "      <th>Accuracy</th>\n",
       "      <th>Duration</th>\n",
       "      <th>Params</th>\n",
       "      <th>BestAccuracy</th>\n",
       "    </tr>\n",
       "  </thead>\n",
       "  <tbody>\n",
       "    <tr>\n",
       "      <th>0</th>\n",
       "      <td>0</td>\n",
       "      <td>0.823816</td>\n",
       "      <td>68.174362</td>\n",
       "      <td>{'n_estimators': 389, 'eta': 0.291893766171394...</td>\n",
       "      <td>0.823816</td>\n",
       "    </tr>\n",
       "    <tr>\n",
       "      <th>1</th>\n",
       "      <td>1</td>\n",
       "      <td>0.811855</td>\n",
       "      <td>19.375737</td>\n",
       "      <td>{'n_estimators': 977, 'eta': 0.735599089954287...</td>\n",
       "      <td>0.823816</td>\n",
       "    </tr>\n",
       "    <tr>\n",
       "      <th>2</th>\n",
       "      <td>2</td>\n",
       "      <td>0.817876</td>\n",
       "      <td>27.915541</td>\n",
       "      <td>{'n_estimators': 790, 'eta': 0.672134526968142...</td>\n",
       "      <td>0.823816</td>\n",
       "    </tr>\n",
       "    <tr>\n",
       "      <th>3</th>\n",
       "      <td>3</td>\n",
       "      <td>0.816934</td>\n",
       "      <td>109.768275</td>\n",
       "      <td>{'n_estimators': 317, 'eta': 0.140351635071733...</td>\n",
       "      <td>0.823816</td>\n",
       "    </tr>\n",
       "    <tr>\n",
       "      <th>4</th>\n",
       "      <td>4</td>\n",
       "      <td>0.812551</td>\n",
       "      <td>79.306950</td>\n",
       "      <td>{'n_estimators': 467, 'eta': 0.075578226052075...</td>\n",
       "      <td>0.823816</td>\n",
       "    </tr>\n",
       "    <tr>\n",
       "      <th>...</th>\n",
       "      <td>...</td>\n",
       "      <td>...</td>\n",
       "      <td>...</td>\n",
       "      <td>...</td>\n",
       "      <td>...</td>\n",
       "    </tr>\n",
       "    <tr>\n",
       "      <th>95</th>\n",
       "      <td>95</td>\n",
       "      <td>0.826315</td>\n",
       "      <td>48.837423</td>\n",
       "      <td>{'n_estimators': 239, 'eta': 0.138872894676925...</td>\n",
       "      <td>0.828527</td>\n",
       "    </tr>\n",
       "    <tr>\n",
       "      <th>96</th>\n",
       "      <td>96</td>\n",
       "      <td>0.825987</td>\n",
       "      <td>73.920044</td>\n",
       "      <td>{'n_estimators': 198, 'eta': 0.183511637048096...</td>\n",
       "      <td>0.828527</td>\n",
       "    </tr>\n",
       "    <tr>\n",
       "      <th>97</th>\n",
       "      <td>97</td>\n",
       "      <td>0.824635</td>\n",
       "      <td>53.022370</td>\n",
       "      <td>{'n_estimators': 137, 'eta': 0.129404596327552...</td>\n",
       "      <td>0.828527</td>\n",
       "    </tr>\n",
       "    <tr>\n",
       "      <th>98</th>\n",
       "      <td>98</td>\n",
       "      <td>0.825700</td>\n",
       "      <td>31.365623</td>\n",
       "      <td>{'n_estimators': 279, 'eta': 0.268624118473353...</td>\n",
       "      <td>0.828527</td>\n",
       "    </tr>\n",
       "    <tr>\n",
       "      <th>99</th>\n",
       "      <td>99</td>\n",
       "      <td>0.826397</td>\n",
       "      <td>52.295193</td>\n",
       "      <td>{'n_estimators': 150, 'eta': 0.237708781273729...</td>\n",
       "      <td>0.828527</td>\n",
       "    </tr>\n",
       "  </tbody>\n",
       "</table>\n",
       "<p>100 rows × 5 columns</p>\n",
       "</div>"
      ],
      "text/plain": [
       "    Trial  Accuracy    Duration  \\\n",
       "0       0  0.823816   68.174362   \n",
       "1       1  0.811855   19.375737   \n",
       "2       2  0.817876   27.915541   \n",
       "3       3  0.816934  109.768275   \n",
       "4       4  0.812551   79.306950   \n",
       "..    ...       ...         ...   \n",
       "95     95  0.826315   48.837423   \n",
       "96     96  0.825987   73.920044   \n",
       "97     97  0.824635   53.022370   \n",
       "98     98  0.825700   31.365623   \n",
       "99     99  0.826397   52.295193   \n",
       "\n",
       "                                               Params  BestAccuracy  \n",
       "0   {'n_estimators': 389, 'eta': 0.291893766171394...      0.823816  \n",
       "1   {'n_estimators': 977, 'eta': 0.735599089954287...      0.823816  \n",
       "2   {'n_estimators': 790, 'eta': 0.672134526968142...      0.823816  \n",
       "3   {'n_estimators': 317, 'eta': 0.140351635071733...      0.823816  \n",
       "4   {'n_estimators': 467, 'eta': 0.075578226052075...      0.823816  \n",
       "..                                                ...           ...  \n",
       "95  {'n_estimators': 239, 'eta': 0.138872894676925...      0.828527  \n",
       "96  {'n_estimators': 198, 'eta': 0.183511637048096...      0.828527  \n",
       "97  {'n_estimators': 137, 'eta': 0.129404596327552...      0.828527  \n",
       "98  {'n_estimators': 279, 'eta': 0.268624118473353...      0.828527  \n",
       "99  {'n_estimators': 150, 'eta': 0.237708781273729...      0.828527  \n",
       "\n",
       "[100 rows x 5 columns]"
      ]
     },
     "execution_count": 18,
     "metadata": {},
     "output_type": "execute_result"
    }
   ],
   "source": [
    "progress"
   ]
  },
  {
   "cell_type": "code",
   "execution_count": 19,
   "metadata": {},
   "outputs": [],
   "source": [
    "csv_file_path = 'results/XGBoostHypertuningProgress.csv'\n",
    "progress.to_csv(csv_file_path, index=False)"
   ]
  },
  {
   "cell_type": "code",
   "execution_count": 20,
   "metadata": {},
   "outputs": [
    {
     "name": "stdout",
     "output_type": "stream",
     "text": [
      "Best Parameters: {'n_estimators': 315, 'eta': 0.2085246244484748, 'max_depth': 15, 'subsample': 0.9959164354822447, 'colsample_bytree': 0.6863733553029858, 'gamma': 2.2813651119701905, 'reg_lambda': 7.320388380853057, 'reg_alpha': 3.0541829875130526, 'grow_policy': 'depthwise'}\n"
     ]
    }
   ],
   "source": [
    "best_params = study.best_params\n",
    "print(\"Best Parameters:\", best_params)"
   ]
  },
  {
   "cell_type": "code",
   "execution_count": 21,
   "metadata": {},
   "outputs": [],
   "source": [
    "xgb = XGBClassifier(**best_params, use_label_encoder=False, eval_metric='mlogloss', random_state=42)"
   ]
  },
  {
   "cell_type": "code",
   "execution_count": 22,
   "metadata": {},
   "outputs": [
    {
     "data": {
      "text/html": [
       "<style>#sk-container-id-1 {color: black;}#sk-container-id-1 pre{padding: 0;}#sk-container-id-1 div.sk-toggleable {background-color: white;}#sk-container-id-1 label.sk-toggleable__label {cursor: pointer;display: block;width: 100%;margin-bottom: 0;padding: 0.3em;box-sizing: border-box;text-align: center;}#sk-container-id-1 label.sk-toggleable__label-arrow:before {content: \"▸\";float: left;margin-right: 0.25em;color: #696969;}#sk-container-id-1 label.sk-toggleable__label-arrow:hover:before {color: black;}#sk-container-id-1 div.sk-estimator:hover label.sk-toggleable__label-arrow:before {color: black;}#sk-container-id-1 div.sk-toggleable__content {max-height: 0;max-width: 0;overflow: hidden;text-align: left;background-color: #f0f8ff;}#sk-container-id-1 div.sk-toggleable__content pre {margin: 0.2em;color: black;border-radius: 0.25em;background-color: #f0f8ff;}#sk-container-id-1 input.sk-toggleable__control:checked~div.sk-toggleable__content {max-height: 200px;max-width: 100%;overflow: auto;}#sk-container-id-1 input.sk-toggleable__control:checked~label.sk-toggleable__label-arrow:before {content: \"▾\";}#sk-container-id-1 div.sk-estimator input.sk-toggleable__control:checked~label.sk-toggleable__label {background-color: #d4ebff;}#sk-container-id-1 div.sk-label input.sk-toggleable__control:checked~label.sk-toggleable__label {background-color: #d4ebff;}#sk-container-id-1 input.sk-hidden--visually {border: 0;clip: rect(1px 1px 1px 1px);clip: rect(1px, 1px, 1px, 1px);height: 1px;margin: -1px;overflow: hidden;padding: 0;position: absolute;width: 1px;}#sk-container-id-1 div.sk-estimator {font-family: monospace;background-color: #f0f8ff;border: 1px dotted black;border-radius: 0.25em;box-sizing: border-box;margin-bottom: 0.5em;}#sk-container-id-1 div.sk-estimator:hover {background-color: #d4ebff;}#sk-container-id-1 div.sk-parallel-item::after {content: \"\";width: 100%;border-bottom: 1px solid gray;flex-grow: 1;}#sk-container-id-1 div.sk-label:hover label.sk-toggleable__label {background-color: #d4ebff;}#sk-container-id-1 div.sk-serial::before {content: \"\";position: absolute;border-left: 1px solid gray;box-sizing: border-box;top: 0;bottom: 0;left: 50%;z-index: 0;}#sk-container-id-1 div.sk-serial {display: flex;flex-direction: column;align-items: center;background-color: white;padding-right: 0.2em;padding-left: 0.2em;position: relative;}#sk-container-id-1 div.sk-item {position: relative;z-index: 1;}#sk-container-id-1 div.sk-parallel {display: flex;align-items: stretch;justify-content: center;background-color: white;position: relative;}#sk-container-id-1 div.sk-item::before, #sk-container-id-1 div.sk-parallel-item::before {content: \"\";position: absolute;border-left: 1px solid gray;box-sizing: border-box;top: 0;bottom: 0;left: 50%;z-index: -1;}#sk-container-id-1 div.sk-parallel-item {display: flex;flex-direction: column;z-index: 1;position: relative;background-color: white;}#sk-container-id-1 div.sk-parallel-item:first-child::after {align-self: flex-end;width: 50%;}#sk-container-id-1 div.sk-parallel-item:last-child::after {align-self: flex-start;width: 50%;}#sk-container-id-1 div.sk-parallel-item:only-child::after {width: 0;}#sk-container-id-1 div.sk-dashed-wrapped {border: 1px dashed gray;margin: 0 0.4em 0.5em 0.4em;box-sizing: border-box;padding-bottom: 0.4em;background-color: white;}#sk-container-id-1 div.sk-label label {font-family: monospace;font-weight: bold;display: inline-block;line-height: 1.2em;}#sk-container-id-1 div.sk-label-container {text-align: center;}#sk-container-id-1 div.sk-container {/* jupyter's `normalize.less` sets `[hidden] { display: none; }` but bootstrap.min.css set `[hidden] { display: none !important; }` so we also need the `!important` here to be able to override the default hidden behavior on the sphinx rendered scikit-learn.org. See: https://github.com/scikit-learn/scikit-learn/issues/21755 */display: inline-block !important;position: relative;}#sk-container-id-1 div.sk-text-repr-fallback {display: none;}</style><div id=\"sk-container-id-1\" class=\"sk-top-container\"><div class=\"sk-text-repr-fallback\"><pre>XGBClassifier(base_score=None, booster=None, callbacks=None,\n",
       "              colsample_bylevel=None, colsample_bynode=None,\n",
       "              colsample_bytree=0.6863733553029858, early_stopping_rounds=None,\n",
       "              enable_categorical=False, eta=0.2085246244484748,\n",
       "              eval_metric=&#x27;mlogloss&#x27;, feature_types=None,\n",
       "              gamma=2.2813651119701905, gpu_id=None, grow_policy=&#x27;depthwise&#x27;,\n",
       "              importance_type=None, interaction_constraints=None,\n",
       "              learning_rate=None, max_bin=None, max_cat_threshold=None,\n",
       "              max_cat_to_onehot=None, max_delta_step=None, max_depth=15,\n",
       "              max_leaves=None, min_child_weight=None, missing=nan,\n",
       "              monotone_constraints=None, n_estimators=315, n_jobs=None,\n",
       "              num_parallel_tree=None, objective=&#x27;multi:softprob&#x27;, ...)</pre><b>In a Jupyter environment, please rerun this cell to show the HTML representation or trust the notebook. <br />On GitHub, the HTML representation is unable to render, please try loading this page with nbviewer.org.</b></div><div class=\"sk-container\" hidden><div class=\"sk-item\"><div class=\"sk-estimator sk-toggleable\"><input class=\"sk-toggleable__control sk-hidden--visually\" id=\"sk-estimator-id-1\" type=\"checkbox\" checked><label for=\"sk-estimator-id-1\" class=\"sk-toggleable__label sk-toggleable__label-arrow\">XGBClassifier</label><div class=\"sk-toggleable__content\"><pre>XGBClassifier(base_score=None, booster=None, callbacks=None,\n",
       "              colsample_bylevel=None, colsample_bynode=None,\n",
       "              colsample_bytree=0.6863733553029858, early_stopping_rounds=None,\n",
       "              enable_categorical=False, eta=0.2085246244484748,\n",
       "              eval_metric=&#x27;mlogloss&#x27;, feature_types=None,\n",
       "              gamma=2.2813651119701905, gpu_id=None, grow_policy=&#x27;depthwise&#x27;,\n",
       "              importance_type=None, interaction_constraints=None,\n",
       "              learning_rate=None, max_bin=None, max_cat_threshold=None,\n",
       "              max_cat_to_onehot=None, max_delta_step=None, max_depth=15,\n",
       "              max_leaves=None, min_child_weight=None, missing=nan,\n",
       "              monotone_constraints=None, n_estimators=315, n_jobs=None,\n",
       "              num_parallel_tree=None, objective=&#x27;multi:softprob&#x27;, ...)</pre></div></div></div></div></div>"
      ],
      "text/plain": [
       "XGBClassifier(base_score=None, booster=None, callbacks=None,\n",
       "              colsample_bylevel=None, colsample_bynode=None,\n",
       "              colsample_bytree=0.6863733553029858, early_stopping_rounds=None,\n",
       "              enable_categorical=False, eta=0.2085246244484748,\n",
       "              eval_metric='mlogloss', feature_types=None,\n",
       "              gamma=2.2813651119701905, gpu_id=None, grow_policy='depthwise',\n",
       "              importance_type=None, interaction_constraints=None,\n",
       "              learning_rate=None, max_bin=None, max_cat_threshold=None,\n",
       "              max_cat_to_onehot=None, max_delta_step=None, max_depth=15,\n",
       "              max_leaves=None, min_child_weight=None, missing=nan,\n",
       "              monotone_constraints=None, n_estimators=315, n_jobs=None,\n",
       "              num_parallel_tree=None, objective='multi:softprob', ...)"
      ]
     },
     "execution_count": 22,
     "metadata": {},
     "output_type": "execute_result"
    }
   ],
   "source": [
    "xgb.fit(X_train, y_train, eval_set=[(X_val, y_val)], early_stopping_rounds=3, verbose=False)"
   ]
  },
  {
   "cell_type": "code",
   "execution_count": 23,
   "metadata": {},
   "outputs": [
    {
     "data": {
      "text/plain": [
       "['models/XGBoostModel.joblib']"
      ]
     },
     "execution_count": 23,
     "metadata": {},
     "output_type": "execute_result"
    }
   ],
   "source": [
    "joblib.dump(xgb, 'models/XGBoostModel.joblib')"
   ]
  },
  {
   "cell_type": "code",
   "execution_count": 24,
   "metadata": {},
   "outputs": [],
   "source": [
    "feature_importances = xgb.feature_importances_"
   ]
  },
  {
   "cell_type": "code",
   "execution_count": 25,
   "metadata": {},
   "outputs": [],
   "source": [
    "feature_importance_df = pd.DataFrame({\n",
    "    'Feature': features,\n",
    "    'Importance': feature_importances\n",
    "})"
   ]
  },
  {
   "cell_type": "code",
   "execution_count": 26,
   "metadata": {},
   "outputs": [],
   "source": [
    "feature_importance_df = feature_importance_df.sort_values(by='Importance', ascending=False).reset_index(drop=True)"
   ]
  },
  {
   "cell_type": "code",
   "execution_count": 27,
   "metadata": {},
   "outputs": [],
   "source": [
    "top_n = 10\n",
    "top_features = feature_importance_df.head(top_n)"
   ]
  },
  {
   "cell_type": "code",
   "execution_count": 28,
   "metadata": {},
   "outputs": [
    {
     "data": {
      "image/png": "[encoded data removed]",
      "text/plain": [
       "<Figure size 1200x800 with 1 Axes>"
      ]
     },
     "metadata": {},
     "output_type": "display_data"
    }
   ],
   "source": [
    "plt.figure(figsize=(12, 8))\n",
    "sns.barplot(x='Importance', y='Feature', data=top_features)\n",
    "plt.title(f'Feature Importance')\n",
    "plt.xlabel('Importance Score')\n",
    "plt.ylabel('Feature')\n",
    "plt.savefig('figures/features/XGBoostFeatureImportance.pdf', bbox_inches='tight')\n",
    "plt.show()"
   ]
  },
  {
   "cell_type": "code",
   "execution_count": 29,
   "metadata": {},
   "outputs": [],
   "source": [
    "feature_importance_df.to_csv('results/XGBoostFeatureImportance.csv', index=False)"
   ]
  },
  {
   "cell_type": "code",
   "execution_count": 30,
   "metadata": {},
   "outputs": [
    {
     "data": {
      "text/html": [
       "<div>\n",
       "<style scoped>\n",
       "    .dataframe tbody tr th:only-of-type {\n",
       "        vertical-align: middle;\n",
       "    }\n",
       "\n",
       "    .dataframe tbody tr th {\n",
       "        vertical-align: top;\n",
       "    }\n",
       "\n",
       "    .dataframe thead th {\n",
       "        text-align: right;\n",
       "    }\n",
       "</style>\n",
       "<table border=\"1\" class=\"dataframe\">\n",
       "  <thead>\n",
       "    <tr style=\"text-align: right;\">\n",
       "      <th></th>\n",
       "      <th>Feature</th>\n",
       "      <th>Importance</th>\n",
       "    </tr>\n",
       "  </thead>\n",
       "  <tbody>\n",
       "    <tr>\n",
       "      <th>0</th>\n",
       "      <td>SourceTCPWindow</td>\n",
       "      <td>0.494512</td>\n",
       "    </tr>\n",
       "    <tr>\n",
       "      <th>1</th>\n",
       "      <td>DestinationTTL</td>\n",
       "      <td>0.114295</td>\n",
       "    </tr>\n",
       "    <tr>\n",
       "      <th>2</th>\n",
       "      <td>SourceTTL</td>\n",
       "      <td>0.112512</td>\n",
       "    </tr>\n",
       "    <tr>\n",
       "      <th>3</th>\n",
       "      <td>RecordDestinationSPortLTM</td>\n",
       "      <td>0.057201</td>\n",
       "    </tr>\n",
       "    <tr>\n",
       "      <th>4</th>\n",
       "      <td>RecordServiceDestination</td>\n",
       "      <td>0.034525</td>\n",
       "    </tr>\n",
       "    <tr>\n",
       "      <th>5</th>\n",
       "      <td>RecordStateTTL</td>\n",
       "      <td>0.033719</td>\n",
       "    </tr>\n",
       "    <tr>\n",
       "      <th>6</th>\n",
       "      <td>RecordDestinationSourceLTM</td>\n",
       "      <td>0.020213</td>\n",
       "    </tr>\n",
       "    <tr>\n",
       "      <th>7</th>\n",
       "      <td>ProtocolCode</td>\n",
       "      <td>0.016825</td>\n",
       "    </tr>\n",
       "    <tr>\n",
       "      <th>8</th>\n",
       "      <td>ServiceCode</td>\n",
       "      <td>0.011014</td>\n",
       "    </tr>\n",
       "    <tr>\n",
       "      <th>9</th>\n",
       "      <td>DestinationBytes</td>\n",
       "      <td>0.010399</td>\n",
       "    </tr>\n",
       "    <tr>\n",
       "      <th>10</th>\n",
       "      <td>StateCode</td>\n",
       "      <td>0.010216</td>\n",
       "    </tr>\n",
       "    <tr>\n",
       "      <th>11</th>\n",
       "      <td>DestinationPacketMeanSize</td>\n",
       "      <td>0.008421</td>\n",
       "    </tr>\n",
       "    <tr>\n",
       "      <th>12</th>\n",
       "      <td>SourceBytes</td>\n",
       "      <td>0.007241</td>\n",
       "    </tr>\n",
       "    <tr>\n",
       "      <th>13</th>\n",
       "      <td>DestinationLoad</td>\n",
       "      <td>0.005955</td>\n",
       "    </tr>\n",
       "    <tr>\n",
       "      <th>14</th>\n",
       "      <td>SourcePacketMeanSize</td>\n",
       "      <td>0.005463</td>\n",
       "    </tr>\n",
       "    <tr>\n",
       "      <th>15</th>\n",
       "      <td>RecordFlowHTTPMethods</td>\n",
       "      <td>0.005432</td>\n",
       "    </tr>\n",
       "    <tr>\n",
       "      <th>16</th>\n",
       "      <td>RecordServiceSource</td>\n",
       "      <td>0.004277</td>\n",
       "    </tr>\n",
       "    <tr>\n",
       "      <th>17</th>\n",
       "      <td>TransactionDepth</td>\n",
       "      <td>0.004106</td>\n",
       "    </tr>\n",
       "    <tr>\n",
       "      <th>18</th>\n",
       "      <td>DestinationPackets</td>\n",
       "      <td>0.003889</td>\n",
       "    </tr>\n",
       "    <tr>\n",
       "      <th>19</th>\n",
       "      <td>ResponseBodyLength</td>\n",
       "      <td>0.003450</td>\n",
       "    </tr>\n",
       "    <tr>\n",
       "      <th>20</th>\n",
       "      <td>SourceLoss</td>\n",
       "      <td>0.003444</td>\n",
       "    </tr>\n",
       "    <tr>\n",
       "      <th>21</th>\n",
       "      <td>DestinationLoss</td>\n",
       "      <td>0.003391</td>\n",
       "    </tr>\n",
       "    <tr>\n",
       "      <th>22</th>\n",
       "      <td>SourceLoad</td>\n",
       "      <td>0.002976</td>\n",
       "    </tr>\n",
       "    <tr>\n",
       "      <th>23</th>\n",
       "      <td>SourcePackets</td>\n",
       "      <td>0.002947</td>\n",
       "    </tr>\n",
       "    <tr>\n",
       "      <th>24</th>\n",
       "      <td>RecordSourceDPortLTM</td>\n",
       "      <td>0.002849</td>\n",
       "    </tr>\n",
       "    <tr>\n",
       "      <th>25</th>\n",
       "      <td>FlowRate</td>\n",
       "      <td>0.002702</td>\n",
       "    </tr>\n",
       "    <tr>\n",
       "      <th>26</th>\n",
       "      <td>SourceInterPacketTime</td>\n",
       "      <td>0.002260</td>\n",
       "    </tr>\n",
       "    <tr>\n",
       "      <th>27</th>\n",
       "      <td>Duration</td>\n",
       "      <td>0.002107</td>\n",
       "    </tr>\n",
       "    <tr>\n",
       "      <th>28</th>\n",
       "      <td>TCPRTT</td>\n",
       "      <td>0.001354</td>\n",
       "    </tr>\n",
       "    <tr>\n",
       "      <th>29</th>\n",
       "      <td>SourceJitter</td>\n",
       "      <td>0.001318</td>\n",
       "    </tr>\n",
       "    <tr>\n",
       "      <th>30</th>\n",
       "      <td>IsFTPLogin</td>\n",
       "      <td>0.001148</td>\n",
       "    </tr>\n",
       "    <tr>\n",
       "      <th>31</th>\n",
       "      <td>DestinationJitter</td>\n",
       "      <td>0.001136</td>\n",
       "    </tr>\n",
       "    <tr>\n",
       "      <th>32</th>\n",
       "      <td>TCPSYNACK</td>\n",
       "      <td>0.001133</td>\n",
       "    </tr>\n",
       "    <tr>\n",
       "      <th>33</th>\n",
       "      <td>DestinationInterPacketTime</td>\n",
       "      <td>0.001128</td>\n",
       "    </tr>\n",
       "    <tr>\n",
       "      <th>34</th>\n",
       "      <td>TCPACKDelta</td>\n",
       "      <td>0.001119</td>\n",
       "    </tr>\n",
       "    <tr>\n",
       "      <th>35</th>\n",
       "      <td>IsSmallIPSPorts</td>\n",
       "      <td>0.001065</td>\n",
       "    </tr>\n",
       "    <tr>\n",
       "      <th>36</th>\n",
       "      <td>RecordDestinationLTM</td>\n",
       "      <td>0.001036</td>\n",
       "    </tr>\n",
       "    <tr>\n",
       "      <th>37</th>\n",
       "      <td>RecordFTPCommands</td>\n",
       "      <td>0.001023</td>\n",
       "    </tr>\n",
       "    <tr>\n",
       "      <th>38</th>\n",
       "      <td>RecordSourceLTM</td>\n",
       "      <td>0.000833</td>\n",
       "    </tr>\n",
       "    <tr>\n",
       "      <th>39</th>\n",
       "      <td>SourceTCPBaseSequence</td>\n",
       "      <td>0.000703</td>\n",
       "    </tr>\n",
       "    <tr>\n",
       "      <th>40</th>\n",
       "      <td>DestinationTCPBaseSequence</td>\n",
       "      <td>0.000663</td>\n",
       "    </tr>\n",
       "    <tr>\n",
       "      <th>41</th>\n",
       "      <td>DestinationTCPWindow</td>\n",
       "      <td>0.000000</td>\n",
       "    </tr>\n",
       "  </tbody>\n",
       "</table>\n",
       "</div>"
      ],
      "text/plain": [
       "                       Feature  Importance\n",
       "0              SourceTCPWindow    0.494512\n",
       "1               DestinationTTL    0.114295\n",
       "2                    SourceTTL    0.112512\n",
       "3    RecordDestinationSPortLTM    0.057201\n",
       "4     RecordServiceDestination    0.034525\n",
       "5               RecordStateTTL    0.033719\n",
       "6   RecordDestinationSourceLTM    0.020213\n",
       "7                 ProtocolCode    0.016825\n",
       "8                  ServiceCode    0.011014\n",
       "9             DestinationBytes    0.010399\n",
       "10                   StateCode    0.010216\n",
       "11   DestinationPacketMeanSize    0.008421\n",
       "12                 SourceBytes    0.007241\n",
       "13             DestinationLoad    0.005955\n",
       "14        SourcePacketMeanSize    0.005463\n",
       "15       RecordFlowHTTPMethods    0.005432\n",
       "16         RecordServiceSource    0.004277\n",
       "17            TransactionDepth    0.004106\n",
       "18          DestinationPackets    0.003889\n",
       "19          ResponseBodyLength    0.003450\n",
       "20                  SourceLoss    0.003444\n",
       "21             DestinationLoss    0.003391\n",
       "22                  SourceLoad    0.002976\n",
       "23               SourcePackets    0.002947\n",
       "24        RecordSourceDPortLTM    0.002849\n",
       "25                    FlowRate    0.002702\n",
       "26       SourceInterPacketTime    0.002260\n",
       "27                    Duration    0.002107\n",
       "28                      TCPRTT    0.001354\n",
       "29                SourceJitter    0.001318\n",
       "30                  IsFTPLogin    0.001148\n",
       "31           DestinationJitter    0.001136\n",
       "32                   TCPSYNACK    0.001133\n",
       "33  DestinationInterPacketTime    0.001128\n",
       "34                 TCPACKDelta    0.001119\n",
       "35             IsSmallIPSPorts    0.001065\n",
       "36        RecordDestinationLTM    0.001036\n",
       "37           RecordFTPCommands    0.001023\n",
       "38             RecordSourceLTM    0.000833\n",
       "39       SourceTCPBaseSequence    0.000703\n",
       "40  DestinationTCPBaseSequence    0.000663\n",
       "41        DestinationTCPWindow    0.000000"
      ]
     },
     "execution_count": 30,
     "metadata": {},
     "output_type": "execute_result"
    }
   ],
   "source": [
    "feature_importance_df"
   ]
  },
  {
   "cell_type": "code",
   "execution_count": 31,
   "metadata": {},
   "outputs": [
    {
     "data": {
      "text/plain": [
       "Index(['Feature', 'Importance'], dtype='object')"
      ]
     },
     "execution_count": 31,
     "metadata": {},
     "output_type": "execute_result"
    }
   ],
   "source": [
    "feature_importance_df.columns"
   ]
  }
 ],
 "metadata": {
  "colab": {
   "provenance": []
  },
  "kernelspec": {
   "display_name": "Python 3 (ipykernel)",
   "language": "python",
   "name": "python3"
  },
  "language_info": {
   "codemirror_mode": {
    "name": "ipython",
    "version": 3
   },
   "file_extension": ".py",
   "mimetype": "text/x-python",
   "name": "python",
   "nbconvert_exporter": "python",
   "pygments_lexer": "ipython3",
   "version": "3.11.7"
  }
 },
 "nbformat": 4,
 "nbformat_minor": 4
}
